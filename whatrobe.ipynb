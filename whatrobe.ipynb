{
 "cells": [
  {
   "cell_type": "code",
   "execution_count": 26,
   "metadata": {},
   "outputs": [],
   "source": [
    "import openai\n",
    "openai.api_key = open(\"key.txt\",'r').read().strip('\\n')"
   ]
  },
  {
   "cell_type": "markdown",
   "metadata": {},
   "source": [
    "Taking filepath of the uploaded image file"
   ]
  },
  {
   "cell_type": "code",
   "execution_count": 6,
   "metadata": {},
   "outputs": [
    {
     "ename": "RuntimeError",
     "evalue": "Working outside of request context.\n\nThis typically means that you attempted to use functionality that needed\nan active HTTP request. Consult the documentation on testing for\ninformation about how to avoid this problem.",
     "output_type": "error",
     "traceback": [
      "\u001b[0;31m---------------------------------------------------------------------------\u001b[0m",
      "\u001b[0;31mRuntimeError\u001b[0m                              Traceback (most recent call last)",
      "Cell \u001b[0;32mIn[6], line 5\u001b[0m\n\u001b[1;32m      2\u001b[0m \u001b[38;5;28;01mfrom\u001b[39;00m \u001b[38;5;21;01mflask\u001b[39;00m \u001b[38;5;28;01mimport\u001b[39;00m Flask, flash, request, redirect, url_for\n\u001b[1;32m      3\u001b[0m \u001b[38;5;28;01mfrom\u001b[39;00m \u001b[38;5;21;01mwerkzeug\u001b[39;00m\u001b[38;5;21;01m.\u001b[39;00m\u001b[38;5;21;01mutils\u001b[39;00m \u001b[38;5;28;01mimport\u001b[39;00m secure_filename\n\u001b[0;32m----> 5\u001b[0m \u001b[38;5;28;01mif\u001b[39;00m \u001b[43mrequest\u001b[49m\u001b[38;5;241;43m.\u001b[39;49m\u001b[43mmethod\u001b[49m \u001b[38;5;241m==\u001b[39m \u001b[38;5;124m\"\u001b[39m\u001b[38;5;124mPOST\u001b[39m\u001b[38;5;124m\"\u001b[39m:\n\u001b[1;32m      6\u001b[0m     image \u001b[38;5;241m=\u001b[39m request\u001b[38;5;241m.\u001b[39mfiles[\u001b[38;5;124m'\u001b[39m\u001b[38;5;124mmyfile\u001b[39m\u001b[38;5;124m'\u001b[39m] \u001b[38;5;66;03m#myfile is name of input tag\u001b[39;00m\n\u001b[1;32m      7\u001b[0m     config \u001b[38;5;241m=\u001b[39m{\n\u001b[1;32m      8\u001b[0m             \u001b[38;5;124m'\u001b[39m\u001b[38;5;124malbum\u001b[39m\u001b[38;5;124m'\u001b[39m:album,\n\u001b[1;32m      9\u001b[0m             \u001b[38;5;124m'\u001b[39m\u001b[38;5;124mname\u001b[39m\u001b[38;5;124m'\u001b[39m:\u001b[38;5;124m'\u001b[39m\u001b[38;5;124mCatastrophe!\u001b[39m\u001b[38;5;124m'\u001b[39m,\n\u001b[1;32m     10\u001b[0m             \u001b[38;5;124m'\u001b[39m\u001b[38;5;124mtitle\u001b[39m\u001b[38;5;124m'\u001b[39m:\u001b[38;5;124m'\u001b[39m\u001b[38;5;124mCatastrophe!\u001b[39m\u001b[38;5;124m'\u001b[39m\n\u001b[1;32m     11\u001b[0m     }\n",
      "File \u001b[0;32m~/miniconda3/lib/python3.9/site-packages/werkzeug/local.py:311\u001b[0m, in \u001b[0;36m_ProxyLookup.__get__\u001b[0;34m(self, instance, owner)\u001b[0m\n\u001b[1;32m    308\u001b[0m     \u001b[39mreturn\u001b[39;00m \u001b[39mself\u001b[39m\n\u001b[1;32m    310\u001b[0m \u001b[39mtry\u001b[39;00m:\n\u001b[0;32m--> 311\u001b[0m     obj \u001b[39m=\u001b[39m instance\u001b[39m.\u001b[39;49m_get_current_object()\n\u001b[1;32m    312\u001b[0m \u001b[39mexcept\u001b[39;00m \u001b[39mRuntimeError\u001b[39;00m:\n\u001b[1;32m    313\u001b[0m     \u001b[39mif\u001b[39;00m \u001b[39mself\u001b[39m\u001b[39m.\u001b[39mfallback \u001b[39mis\u001b[39;00m \u001b[39mNone\u001b[39;00m:\n",
      "File \u001b[0;32m~/miniconda3/lib/python3.9/site-packages/werkzeug/local.py:508\u001b[0m, in \u001b[0;36mLocalProxy.__init__.<locals>._get_current_object\u001b[0;34m()\u001b[0m\n\u001b[1;32m    506\u001b[0m     obj \u001b[39m=\u001b[39m local\u001b[39m.\u001b[39mget()\n\u001b[1;32m    507\u001b[0m \u001b[39mexcept\u001b[39;00m \u001b[39mLookupError\u001b[39;00m:\n\u001b[0;32m--> 508\u001b[0m     \u001b[39mraise\u001b[39;00m \u001b[39mRuntimeError\u001b[39;00m(unbound_message) \u001b[39mfrom\u001b[39;00m \u001b[39mNone\u001b[39;00m\n\u001b[1;32m    510\u001b[0m \u001b[39mreturn\u001b[39;00m get_name(obj)\n",
      "\u001b[0;31mRuntimeError\u001b[0m: Working outside of request context.\n\nThis typically means that you attempted to use functionality that needed\nan active HTTP request. Consult the documentation on testing for\ninformation about how to avoid this problem."
     ]
    }
   ],
   "source": [
    "import os\n",
    "from flask import Flask, flash, request, redirect, url_for\n",
    "from werkzeug.utils import secure_filename\n",
    "\n",
    "if request.method == \"POST\":\n",
    "    image = request.files['myfile'] #myfile is name of input tag\n",
    "    config ={\n",
    "            'album':album,\n",
    "            'name':'Catastrophe!',\n",
    "            'title':'Catastrophe!'\n",
    "    }\n",
    "    print(\"uploading image...\")\n",
    "    filename = secure_filename(image.filename)\n",
    "    file.save(os.path.join('/home/suraj/Pictures', filename))\n",
    "    filepath = os.path.realpath(image.filename)"
   ]
  },
  {
   "cell_type": "markdown",
   "metadata": {},
   "source": [
    "Taking image url through IMGUR api"
   ]
  },
  {
   "cell_type": "code",
   "execution_count": null,
   "metadata": {},
   "outputs": [],
   "source": [
    "import requests\n",
    "\n",
    "# Set API endpoint and headers\n",
    "url = \"https://api.imgur.com/3/image\"\n",
    "headers = {\"Authorization\": \"Client-ID b75fcdc4242604c\"}\n",
    "\n",
    "# Read image file and encode as base64\n",
    "with open(filepath, \"rb\") as file:\n",
    "  data = file.read()\n",
    "  base64_data = base64.b64encode(data)\n",
    "\n",
    "# Upload image to Imgur and get URL\n",
    "response = requests.post(url, headers=headers, data={\"image\": base64_data})\n",
    "url = response.json()[\"data\"][\"link\"]\n",
    "print(url)"
   ]
  },
  {
   "cell_type": "markdown",
   "metadata": {},
   "source": [
    "Fashion Tagging API"
   ]
  },
  {
   "cell_type": "code",
   "execution_count": null,
   "metadata": {},
   "outputs": [],
   "source": [
    "#if response.raise_for_status():\n",
    "#    print(response.text)\n",
    "#else:\n",
    "#    print('Error posting API: ' + response.text)\n",
    "import requests\n",
    "import json\n",
    "import base64\n",
    "\n",
    "endpoint = 'https://api.ximilar.com/your-endpoint'\n",
    "headers = {\n",
    "    'Authorization': \"e50e3f549adc1c2faa3c9ecdb24f0e5c571e8017\",\n",
    "    'Content-Type': 'application/json'\n",
    "}\n",
    "\n",
    "# First way to load base64\n",
    "with open(filepath , \"rb\") as image_file:\n",
    "    encoded_string = base64.b64encode(image_file.read()).decode('utf-8')\n",
    "\n",
    "# Second way to load base64 data with opencv\n",
    "# import cv2\n",
    "#image = cv2.imread(__IMAGE_PATH__) # this will return image in BGR\n",
    "#retval, buffer = cv2.imencode('.jpg', image)\n",
    "#encoded_string = base64.b64encode(buffer).decode('utf-8')\n",
    "\n",
    "data = {\n",
    "    'records': [{\"_base64\": encoded_string}, {\"_url\": url}],\n",
    "    'task': \"__TASK_ID__\"\n",
    "}\n",
    "\n",
    "response = requests.post(endpoint, headers=headers, data=json.dumps(data))\n",
    "print(json.dumps(response.json(), indent=2)) "
   ]
  },
  {
   "cell_type": "markdown",
   "metadata": {},
   "source": [
    "CHATGPT suggestion"
   ]
  },
  {
   "cell_type": "code",
   "execution_count": null,
   "metadata": {},
   "outputs": [],
   "source": [
    "message_history = []\n",
    "\n",
    "def chat(inp, role = \"user\"):\n",
    "\n",
    "    message_history.append({\"role\": \"user\", \"content\": inp})\n",
    "\n",
    "    completion = openai.ChatCompletion.create(\n",
    "    model = \"gpt-3.5-turbo\",\n",
    "    messages = message_history ,    \n",
    "    )\n",
    "    reply = completion.choices[0].message.content\n",
    "\n",
    "    print(reply)\n",
    "\n",
    "    message_history.append({\"role\": \"assistant\", \"content\": reply })\n",
    "    return reply\n",
    "\n",
    "\n"
   ]
  }
 ],
 "metadata": {
  "kernelspec": {
   "display_name": "Python 3.9.12 ('base')",
   "language": "python",
   "name": "python3"
  },
  "language_info": {
   "codemirror_mode": {
    "name": "ipython",
    "version": 3
   },
   "file_extension": ".py",
   "mimetype": "text/x-python",
   "name": "python",
   "nbconvert_exporter": "python",
   "pygments_lexer": "ipython3",
   "version": "3.9.12"
  },
  "orig_nbformat": 4,
  "vscode": {
   "interpreter": {
    "hash": "0a37cc5a35f6bf80425ebfe9e240c42661d5be670ea63a4061a17ee0f6be736d"
   }
  }
 },
 "nbformat": 4,
 "nbformat_minor": 2
}
