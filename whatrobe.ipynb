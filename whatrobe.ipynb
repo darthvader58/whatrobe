{
 "cells": [
  {
   "cell_type": "code",
   "execution_count": 26,
   "metadata": {},
   "outputs": [],
   "source": [
    "import openai\n",
    "openai.api_key = open(\"key.txt\",'r').read().strip('\\n')\n"
   ]
  },
  {
   "cell_type": "code",
   "execution_count": null,
   "metadata": {},
   "outputs": [],
   "source": [
    "import requests\n",
    "url = 'https://api.ximilar.com/your-endpoint'\n",
    "headers={'Authorization': \"e50e3f549adc1c2faa3c9ecdb24f0e5c571e8017\",\n",
    "         'Content-Type': 'application/json'}\n",
    "response = requests.get(url, headers=headers)\n",
    "if response.raise_for_status():\n",
    "    print(response.text)\n",
    "else:\n",
    "    print('Error posting API: ' + response.text)\n",
    " "
   ]
  },
  {
   "cell_type": "code",
   "execution_count": null,
   "metadata": {},
   "outputs": [],
   "source": [
    "message_history = []\n",
    "\n",
    "def chat(inp, role = \"user\"):\n",
    "\n",
    "    message_history.append({\"role\": \"user\", \"content\": inp})\n",
    "\n",
    "    completion = openai.ChatCompletion.create(\n",
    "    model = \"gpt-3.5-turbo\",\n",
    "    messages = message_history ,    \n",
    "    )\n",
    "    reply = completion.choices[0].message.content\n",
    "\n",
    "    print(reply)\n",
    "\n",
    "    message_history.append({\"role\": \"assistant\", \"content\": reply })\n",
    "    return reply\n",
    "\n",
    "\n"
   ]
  }
 ],
 "metadata": {
  "kernelspec": {
   "display_name": "Python 3.9.12 ('base')",
   "language": "python",
   "name": "python3"
  },
  "language_info": {
   "codemirror_mode": {
    "name": "ipython",
    "version": 3
   },
   "file_extension": ".py",
   "mimetype": "text/x-python",
   "name": "python",
   "nbconvert_exporter": "python",
   "pygments_lexer": "ipython3",
   "version": "3.9.12"
  },
  "orig_nbformat": 4,
  "vscode": {
   "interpreter": {
    "hash": "0a37cc5a35f6bf80425ebfe9e240c42661d5be670ea63a4061a17ee0f6be736d"
   }
  }
 },
 "nbformat": 4,
 "nbformat_minor": 2
}
